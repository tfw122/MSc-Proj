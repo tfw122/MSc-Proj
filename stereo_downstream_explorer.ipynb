{
 "cells": [
  {
   "cell_type": "code",
   "execution_count": null,
   "metadata": {},
   "outputs": [],
   "source": [
    "#from src.utils.builder import build_trainer, build_config\n",
    "from src.utils.utils import *\n",
    "from src.utils.builder import *\n",
    "from src.utils.fileio import *\n",
    "from arguments import args\n",
    "from time import time\n",
    "from PIL import Image\n",
    "import numpy as np\n",
    "import random \n",
    "import pandas as pd \n",
    "\n",
    "import torch \n",
    "import matplotlib.pyplot as plt\n",
    "import torchvision.transforms as transforms\n",
    "from torchvision.utils import save_image\n",
    "from src.datasets.transforms.vision_transforms_utils import UnNormalise\n",
    "\n",
    "# --------------- Import Dataset Builder function -----------------\n",
    "from src.datasets.dataset_zoo.stereo_vision_mim.stereo_datasets_mim.cityscapes_dataset import *\n",
    "from src.datasets.dataset_zoo.stereo_vision_mim.stereo_datasets_mim.kitti_dataset import *\n",
    "from src.datasets.dataset_zoo.stereo_vision_mim.stereo_datasets_mim.falling_things_dataset import *\n",
    "from src.datasets.dataset_zoo.stereo_vision_mim.stereo_datasets_mim.sceneflow_dataset import *\n",
    "from src.datasets.dataset_zoo.stereo_vision_mim.stereo_datasets_mim.sintel_stereo_dataset import *\n",
    "from src.datasets.dataset_zoo.stereo_vision_mim.stereo_datasets_mim.tartan_air_dataset import *\n",
    "\n",
    "from src.datasets.dataset_zoo.stereo_vision_downstream.stereo_datasets_downstream.kitti_dataset import *\n",
    "from src.datasets.dataset_zoo.stereo_vision_downstream.stereo_datasets_downstream.falling_things_dataset import *\n",
    "from src.datasets.dataset_zoo.stereo_vision_downstream.stereo_datasets_downstream.sceneflow_dataset import *\n",
    "from src.datasets.dataset_zoo.stereo_vision_downstream.stereo_datasets_downstream.sintel_stereo_dataset import *\n",
    "from src.datasets.dataset_zoo.stereo_vision_downstream.stereo_datasets_downstream.tartan_air_dataset import *\n",
    "from src.datasets.dataset_zoo.stereo_vision_downstream.stereo_datasets_downstream.eth3d_dataset import *\n",
    "from src.datasets.dataset_zoo.stereo_vision_downstream.stereo_datasets_downstream.middlebury_dataset import *\n",
    "\n",
    "global LOAD_IMG\n",
    "global TESTING\n",
    "\n",
    "LOAD_IMG= \"dataloader\"\n",
    "TESTING = \"mim\"\n"
   ]
  },
  {
   "cell_type": "code",
   "execution_count": null,
   "metadata": {},
   "outputs": [],
   "source": [
    "def get_transforms(config, split):\n",
    "    transforms_name = config.dataset_config.preprocess.name\n",
    "    data_transform_cls = registry.get_preprocessor_class(transforms_name)\n",
    "    data_transforms_obj = data_transform_cls(config, split)\n",
    "    return data_transforms_obj\n",
    "\n",
    "def ToArray(img_t):\n",
    "    img = img_t.detach().to(\"cpu\").numpy()\n",
    "    img = np.transpose(img, (1, 2, 0))\n",
    "\n",
    "    return img\n",
    "\n",
    "def show_image(image, title=''):\n",
    "    # image is [H, W, 3]\n",
    "    assert image.shape[2] == 3\n",
    "    if TESTING=='downstream':\n",
    "        plt.imshow(image.numpy().astype(np.uint8)) # .numpy().astype(np.uint8)\n",
    "    else:\n",
    "        plt.imshow(image)\n",
    "    plt.title(title, fontsize=16)\n",
    "    plt.axis('off')\n",
    "\n",
    "def show_flow(input_left, flow_predictions):\n",
    "    flow_up = flow_predictions[-1][0].clone().detach() # the last flow map is the final output\n",
    "    # convert to a grid;\n",
    "    flow_up = -flow_up.cpu().numpy().squeeze()\n",
    "    # np.save(output_directory / f\"{file_stem}.npy\", flow_up.cpu().numpy().squeeze())\n",
    "    input_left = input_left.squeeze().permute(1, 2, 0).cpu().numpy() # b x c x h x w\n",
    "    #save_image(output_directory / f\"{file_stem}.png\", -flow_up.cpu()s.numpy().squeeze(), cmap='jet')\n",
    "    fig, axs = plt.subplots(2)\n",
    "    fig.suptitle('Left input Image & Predicted Disparity')\n",
    "    axs[0].imshow(input_left)\n",
    "    axs[0].axis('off')\n",
    "    axs[1].imshow(flow_up, cmap='jet')\n",
    "    axs[1].axis('off')\n",
    "    plt.show()\n",
    "\n",
    "def augmentation_parameters(config):\n",
    "    dataset_config = config.dataset_config\n",
    "    preprocess_config = dataset_config.preprocess.vision_transforms.params\n",
    "    aug_params = {'crop_size': preprocess_config.Resize.size, 'min_scale': preprocess_config.spatial_scale[0], 'max_scale': preprocess_config.spatial_scale[1], 'do_flip': preprocess_config.do_flip, 'yjitter': not preprocess_config.noyjitter}\n",
    "    \n",
    "    if hasattr(preprocess_config, \"saturation_range\") and preprocess_config.saturation_range is not None:\n",
    "        aug_params[\"saturation_range\"] = tuple(preprocess_config.saturation_range)\n",
    "    \n",
    "    if hasattr(preprocess_config, \"img_gamma\") and preprocess_config.img_gamma is not None:\n",
    "        aug_params[\"gamma\"] = preprocess_config.img_gamma\n",
    "    \n",
    "    if hasattr(preprocess_config, \"do_flip\") and preprocess_config.do_flip is not None:\n",
    "        aug_params[\"do_flip\"] = preprocess_config.do_flip\n",
    "    return aug_params\n",
    "\n",
    "\n",
    "def run_one_image(left_img, right_img, model):\n",
    "    # make it a batch-like\n",
    "    left_img = left_img.unsqueeze(dim=0)\n",
    "    right_img = right_img.unsqueeze(dim=0)\n",
    "    #x = torch.einsum('nhwc->nchw', x)\n",
    "\n",
    "    # run MAE\n",
    "    flow_predictions = model(left_img, right_img) #, mask_ratio=0.75)\n",
    "    \n",
    "    return flow_predictions\n"
   ]
  },
  {
   "cell_type": "code",
   "execution_count": null,
   "metadata": {},
   "outputs": [],
   "source": [
    "class Args:\n",
    "    default_config_path= './configs/default.yaml'\n",
    "    model_config_path='./configs/models/masked_image_stereo_downstream.yaml'\n",
    "    if TESTING=='downstream':\n",
    "        dataset_config_path='./configs/datasets/stereo_downstream.yaml'\n",
    "    else:\n",
    "        dataset_config_path='./configs/datasets/stereo_mim.yaml'\n",
    "    user_config_path='./configs/user/sample.yaml'\n",
    "    local_rank=None\n",
    "    opts=None\n",
    "\n",
    "args=Args()"
   ]
  },
  {
   "cell_type": "markdown",
   "metadata": {},
   "source": []
  },
  {
   "cell_type": "code",
   "execution_count": 2,
   "metadata": {},
   "outputs": [
    {
     "name": "stderr",
     "output_type": "stream",
     "text": [
      "/home/sam/Documents/Core-Research-Library/src/utils/builder.py:426: UserWarning: Device specified is 'cuda' but cuda is not present. Switching to CPU version.\n",
      "  warnings.warn(\n"
     ]
    },
    {
     "name": "stdout",
     "output_type": "stream",
     "text": [
      "output dir for saving files: \"tractable-research-storage/samyakhtukra/EST_MIL_200K_mil_classifier/mil_200k_classification/220429-201718\" created!\n"
     ]
    }
   ],
   "source": [
    "setup_imports()\n",
    "\n",
    "config = build_config(args)\n",
    "\n",
    "fileio_client = FileIOClient(config)"
   ]
  },
  {
   "cell_type": "code",
   "execution_count": null,
   "metadata": {},
   "outputs": [],
   "source": [
    "train_transforms = get_transforms(config, 'train')\n",
    "test_transforms = get_transforms(config, 'test')"
   ]
  },
  {
   "cell_type": "markdown",
   "metadata": {},
   "source": [
    "# Load model weights\n",
    "Ensure you pull the weights from s3 locally in a directory of your choice and load that"
   ]
  },
  {
   "cell_type": "code",
   "execution_count": 3,
   "metadata": {},
   "outputs": [
    {
     "name": "stdout",
     "output_type": "stream",
     "text": [
      "for this work well, make sure inputs are not normalised!\n",
      "using partial layer norm\n",
      "model loaded with ckpt weights\n"
     ]
    }
   ],
   "source": [
    "# load model; dataset etc;\n",
    "model = build_model(config, ckpt_path='/data/pretrained_mae/sample-epoch=150-val_loss=0.32.ckpt')\n",
    "print('::::::: model loaded with ckpt weights :::::::')"
   ]
  },
  {
   "attachments": {},
   "cell_type": "markdown",
   "metadata": {},
   "source": [
    "## Load Image from a path / Dataloader for inference"
   ]
  },
  {
   "cell_type": "code",
   "execution_count": 9,
   "metadata": {},
   "outputs": [
    {
     "data": {
      "image/png": "[encoded data removed]",
      "text/plain": [
       "<Figure size 360x360 with 1 Axes>"
      ]
     },
     "metadata": {
      "needs_background": "light"
     },
     "output_type": "display_data"
    }
   ],
   "source": [
    "idx=0\n",
    "if LOAD_IMG== \"dataloader\":\n",
    "    if TESTING=='downstream':\n",
    "        aug_params = augmentation_parameters(config)\n",
    "        train_dataset = TartanAirEasy(config = config, aug_params = aug_params, split='train')\n",
    "        val_dataset = TartanAirEasy(config = config, aug_params = aug_params, split='val')\n",
    "        \n",
    "        # left_image, right_image = dataset[i]\n",
    "        sample = train_dataset[idx]\n",
    "        _, left_img, right_img, disp, valid = sample\n",
    "\n",
    "        left_image= ToArray(left_img)\n",
    "        right_image= ToArray(right_img)\n",
    "        disp_map = ToArray(disp)\n",
    "        valid_map = ToArray(valid.unsqueeze(0))\n",
    "\n",
    "        fig, (ax1, ax2, ax3, ax4) = plt.subplots(1, 4)\n",
    "        fig.suptitle('Downstream Stereo Images')\n",
    "        ax1.imshow(left_image)\n",
    "        ax2.imshow(right_image)\n",
    "        ax3.imshow(disp_map, cmap='jet')\n",
    "        ax4.imshow(valid_map)\n",
    "        plt.show()\n",
    "        \n",
    "    else:\n",
    "        train_dataset = SceneFlowLoader(config, 'train', train_transforms)\n",
    "        val_dataset = SceneFlowLoader(config, 'val', train_transforms)\n",
    "        sample = val_dataset[idx]\n",
    "        left_img, right_img = sample['left_image'], sample['right_image']\n",
    "\n",
    "        left_image= ToArray(left_img)\n",
    "        right_image= ToArray(right_img)\n",
    "\n",
    "        fig, (ax1, ax2) = plt.subplots(1, 2)\n",
    "        fig.suptitle('MIM Stereo Images')\n",
    "        ax1.imshow(left_image)\n",
    "        ax1.axis('off')\n",
    "        ax2.imshow(right_image)\n",
    "        ax2.axis('off')\n",
    "        plt.show()\n",
    "\n",
    "else:\n",
    "    img_path_left = \"\"\n",
    "    # \"/data/middlebury/testH/Bicycle2/im0.png\"\n",
    "    #\"/data/middlebury/testF/Classroom2/im0.png\"\n",
    "    img_path_right= \"\"\n",
    "    # \"/data/middlebury/testH/Bicycle2/im1.png\"\n",
    "    #\"/data/middlebury/testF/Classroom2/im1.png\"\n",
    "\n",
    "    # pre-process;\n",
    "    left_img = Image.open(img_path_left).convert('RGB')\n",
    "    left_img = left_img.resize((448,224))\n",
    "\n",
    "    right_img = Image.open(img_path_right).convert('RGB')\n",
    "    right_img = right_img.resize((448,224))\n",
    "\n",
    "    assert np.shape(left_img) == (224, 448, 3)\n",
    "    assert np.shape(right_img) == (224, 448, 3)\n",
    "\n",
    "    # normalize by ImageNet mean and std\n",
    "    #img = img - imagenet_mean\n",
    "    #img = img / imagenet_std\n",
    "    totensor = transforms.ToTensor()\n",
    "\n",
    "    plt.rcParams['figure.figsize'] = [5, 5]\n",
    "    show_image(totensor(left_img).permute(1,2,0), 'left image')\n",
    "    show_image(totensor(right_img).permute(1,2,0), 'right image')"
   ]
  },
  {
   "cell_type": "markdown",
   "metadata": {},
   "source": [
    "## Run the model for reconstruction"
   ]
  },
  {
   "cell_type": "code",
   "execution_count": 10,
   "metadata": {},
   "outputs": [
    {
     "name": "stdout",
     "output_type": "stream",
     "text": [
      "LV MAE vit with pixel reconstruction:\n"
     ]
    },
    {
     "data": {
      "image/png": "[encoded data removed]",
      "text/plain": [
       "<Figure size 1728x1728 with 4 Axes>"
      ]
     },
     "metadata": {
      "needs_background": "light"
     },
     "output_type": "display_data"
    }
   ],
   "source": [
    "\n",
    "if LOAD_IMG== \"dataloader\":\n",
    "    flow_predictions = run_one_image(left_img, right_img, model)\n",
    "    show_flow(left_img, flow_predictions)\n",
    "    \n",
    "else:\n",
    "    totensor = transforms.ToTensor()\n",
    "    torch.manual_seed(2) # <<< random seed for random masking.\n",
    "    left_img_t = totensor(left_img)\n",
    "    right_img_t = totensor(right_img)\n",
    "    flow_predictions = run_one_image(left_img_t, right_img_t, model)\n",
    "\n",
    "    show_flow(left_img_t, flow_predictions)\n",
    "    "
   ]
  }
 ],
 "metadata": {
  "kernelspec": {
   "display_name": "Python 3 (ipykernel)",
   "language": "python",
   "name": "python3"
  },
  "language_info": {
   "codemirror_mode": {
    "name": "ipython",
    "version": 3
   },
   "file_extension": ".py",
   "mimetype": "text/x-python",
   "name": "python",
   "nbconvert_exporter": "python",
   "pygments_lexer": "ipython3",
   "version": "3.8.10"
  },
  "vscode": {
   "interpreter": {
    "hash": "c951534619e2844a34909bcab2ba7fe4df669e60c5a6c2262e70445536120363"
   }
  }
 },
 "nbformat": 4,
 "nbformat_minor": 4
}
